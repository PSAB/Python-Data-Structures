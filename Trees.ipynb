{
 "cells": [
  {
   "cell_type": "markdown",
   "metadata": {},
   "source": [
    "## Implement a tree as a list of lists:\n",
    "- The first element of the list will store the value of the root node\n",
    "- The second element of the list is itself a list representing the left subtree\n",
    "- The third element of the list is also a list, representing the right subtree"
   ]
  },
  {
   "attachments": {
    "Screen%20Shot%202020-01-26%20at%202.48.16%20AM.jpg": {
     "image/jpeg": "[encoded data removed]"
    }
   },
   "cell_type": "markdown",
   "metadata": {},
   "source": [
    "![Screen%20Shot%202020-01-26%20at%202.48.16%20AM.jpg](attachment:Screen%20Shot%202020-01-26%20at%202.48.16%20AM.jpg)"
   ]
  },
  {
   "cell_type": "code",
   "execution_count": 1,
   "metadata": {},
   "outputs": [],
   "source": [
    "sample_tree = ['a', ['b', ['d', [], []], ['e', [], []]], ['c', ['f', [], []], []]]"
   ]
  },
  {
   "cell_type": "markdown",
   "metadata": {},
   "source": [
    "## Implementation of a binary tree through lists:"
   ]
  },
  {
   "cell_type": "code",
   "execution_count": 3,
   "metadata": {},
   "outputs": [],
   "source": [
    "def BinaryTree(r):\n",
    "    return [r, [], []]\n",
    "\n",
    "def insertLeft(root, newBranch):\n",
    "    # Retrieve the left child node \n",
    "    t = root.pop(1)\n",
    "    \n",
    "    if len(t) > 1: # If the left child node has its own children, make that node the left child of the new node\n",
    "        root.insert(1, [newBranch, t, []])\n",
    "    else: # Otherwise, insert the new node with no children\n",
    "        root.insert(1, [newBranch, [], []])\n",
    "        \n",
    "    return root\n",
    "\n",
    "def insertRight(root, newBranch):\n",
    "    # Retrieve the left child node \n",
    "    t = root.pop(2)\n",
    "    \n",
    "    if len(t) > 1: # If the right child node has its own children, make that node the right child of the new node\n",
    "        root.insert(2, [newBranch, [], t])\n",
    "    else: # Otherwise, insert the new node with no children\n",
    "        root.insert(2, [newBranch, [], []])\n",
    "        \n",
    "    return root\n",
    "\n",
    "def getRootVal(root):\n",
    "    return root[0]\n",
    "\n",
    "def setRootVal(root, newVal):\n",
    "    root[0] = newVal\n",
    "    \n",
    "def getLeftChild(root):\n",
    "    return root[1]\n",
    "\n",
    "def getRightChild(root):\n",
    "    return root[2]"
   ]
  },
  {
   "cell_type": "code",
   "execution_count": 5,
   "metadata": {},
   "outputs": [
    {
     "data": {
      "text/plain": [
       "[3, [], []]"
      ]
     },
     "execution_count": 5,
     "metadata": {},
     "output_type": "execute_result"
    }
   ],
   "source": [
    "r = BinaryTree(3)\n",
    "r"
   ]
  },
  {
   "cell_type": "code",
   "execution_count": 6,
   "metadata": {},
   "outputs": [
    {
     "data": {
      "text/plain": [
       "[3, [4, [], []], []]"
      ]
     },
     "execution_count": 6,
     "metadata": {},
     "output_type": "execute_result"
    }
   ],
   "source": [
    "insertLeft(r, 4)"
   ]
  },
  {
   "cell_type": "code",
   "execution_count": 7,
   "metadata": {},
   "outputs": [
    {
     "data": {
      "text/plain": [
       "[3, [5, [4, [], []], []], []]"
      ]
     },
     "execution_count": 7,
     "metadata": {},
     "output_type": "execute_result"
    }
   ],
   "source": [
    "insertLeft(r, 5)"
   ]
  },
  {
   "cell_type": "code",
   "execution_count": 8,
   "metadata": {},
   "outputs": [
    {
     "data": {
      "text/plain": [
       "[3, [5, [4, [], []], []], [6, [], []]]"
      ]
     },
     "execution_count": 8,
     "metadata": {},
     "output_type": "execute_result"
    }
   ],
   "source": [
    "insertRight(r, 6)"
   ]
  },
  {
   "cell_type": "code",
   "execution_count": 9,
   "metadata": {},
   "outputs": [
    {
     "data": {
      "text/plain": [
       "[5, [4, [], []], []]"
      ]
     },
     "execution_count": 9,
     "metadata": {},
     "output_type": "execute_result"
    }
   ],
   "source": [
    "l = getLeftChild(r)\n",
    "l"
   ]
  },
  {
   "cell_type": "code",
   "execution_count": 10,
   "metadata": {},
   "outputs": [
    {
     "data": {
      "text/plain": [
       "[3, [9, [4, [], []], []], [6, [], []]]"
      ]
     },
     "execution_count": 10,
     "metadata": {},
     "output_type": "execute_result"
    }
   ],
   "source": [
    "setRootVal(l, 9)\n",
    "r"
   ]
  },
  {
   "cell_type": "code",
   "execution_count": null,
   "metadata": {},
   "outputs": [],
   "source": []
  },
  {
   "cell_type": "markdown",
   "metadata": {},
   "source": [
    "## Proper OOP implementation of a binary tree:"
   ]
  },
  {
   "cell_type": "code",
   "execution_count": 72,
   "metadata": {},
   "outputs": [],
   "source": [
    "class Binary_Tree():\n",
    "    def __init__(self, rootObj):\n",
    "        self.key = rootObj # Name of the root node is called the 'key'\n",
    "        self.left_child = None\n",
    "        self.right_child = None\n",
    "        \n",
    "    def insert_left(self, new_node):\n",
    "        if self.left_child == None:\n",
    "            self.left_child = Binary_Tree(new_node)\n",
    "        else:\n",
    "            t = Binary_Tree(new_node)\n",
    "            t.left_child = self.left_child\n",
    "            self.left_child = t\n",
    "    \n",
    "    def insert_right(self, new_node):\n",
    "        if self.right_child == None:\n",
    "            self.right_child = Binary_Tree(new_node)\n",
    "        else:\n",
    "            t = Binary_Tree(new_node)\n",
    "            t.right_child = self.right_child\n",
    "            self.right_child = t\n",
    "    \n",
    "    def get_right_child(self):\n",
    "        return self.right_child\n",
    "    \n",
    "    def get_left_child(self):\n",
    "        return self.left_child\n",
    "    \n",
    "    def set_root_val(self, obj):\n",
    "        self.key = obj\n",
    "    \n",
    "    def get_root_val(self):\n",
    "        return str(self.key)\n",
    "    \n",
    "    "
   ]
  },
  {
   "cell_type": "code",
   "execution_count": 73,
   "metadata": {},
   "outputs": [],
   "source": [
    "r = Binary_Tree('a')"
   ]
  },
  {
   "cell_type": "code",
   "execution_count": 74,
   "metadata": {},
   "outputs": [
    {
     "data": {
      "text/plain": [
       "'a'"
      ]
     },
     "execution_count": 74,
     "metadata": {},
     "output_type": "execute_result"
    }
   ],
   "source": [
    "r.get_root_val()"
   ]
  },
  {
   "cell_type": "code",
   "execution_count": 75,
   "metadata": {},
   "outputs": [],
   "source": [
    "r.insert_left('left_1')"
   ]
  },
  {
   "cell_type": "code",
   "execution_count": 76,
   "metadata": {},
   "outputs": [
    {
     "data": {
      "text/plain": [
       "'left_1'"
      ]
     },
     "execution_count": 76,
     "metadata": {},
     "output_type": "execute_result"
    }
   ],
   "source": [
    "r.get_left_child().get_root_val()"
   ]
  },
  {
   "cell_type": "markdown",
   "metadata": {},
   "source": [
    "#### The best way to implement the 3 tree traversals is as python functions instead of methods, as functions offer more flexibility in processing each tree node"
   ]
  },
  {
   "cell_type": "code",
   "execution_count": 77,
   "metadata": {},
   "outputs": [],
   "source": [
    "def pre_order(tree):\n",
    "    if tree != None:\n",
    "        print(tree.key)\n",
    "        pre_order(tree.left_child)\n",
    "        pre_order(tree.right_child)"
   ]
  },
  {
   "cell_type": "code",
   "execution_count": 78,
   "metadata": {},
   "outputs": [],
   "source": [
    "def in_order(tree):\n",
    "    if tree != None:\n",
    "        in_order(tree.left_child)\n",
    "        print(tree.key)\n",
    "        in_order(tree.right_child)"
   ]
  },
  {
   "cell_type": "code",
   "execution_count": 79,
   "metadata": {},
   "outputs": [],
   "source": [
    "def post_order(tree):\n",
    "    if tree != None:\n",
    "        post_order(tree.left_child)\n",
    "        post_order(tree.right_child)\n",
    "        print(tree.key)"
   ]
  },
  {
   "cell_type": "code",
   "execution_count": 80,
   "metadata": {},
   "outputs": [],
   "source": [
    "r.insert_left('left_2')\n",
    "r.insert_right('right_1')\n",
    "r.insert_left('left_3')\n",
    "r.insert_right('right_2')\n",
    "r.insert_left('left_4')"
   ]
  },
  {
   "cell_type": "code",
   "execution_count": 81,
   "metadata": {},
   "outputs": [
    {
     "name": "stdout",
     "output_type": "stream",
     "text": [
      "a\n",
      "left_4\n",
      "left_3\n",
      "left_2\n",
      "left_1\n",
      "right_2\n",
      "right_1\n"
     ]
    }
   ],
   "source": [
    "pre_order(r)"
   ]
  },
  {
   "cell_type": "code",
   "execution_count": 82,
   "metadata": {},
   "outputs": [
    {
     "name": "stdout",
     "output_type": "stream",
     "text": [
      "left_1\n",
      "left_2\n",
      "left_3\n",
      "left_4\n",
      "a\n",
      "right_2\n",
      "right_1\n"
     ]
    }
   ],
   "source": [
    "in_order(r)"
   ]
  },
  {
   "cell_type": "code",
   "execution_count": 83,
   "metadata": {},
   "outputs": [
    {
     "name": "stdout",
     "output_type": "stream",
     "text": [
      "left_1\n",
      "left_2\n",
      "left_3\n",
      "left_4\n",
      "right_1\n",
      "right_2\n",
      "a\n"
     ]
    }
   ],
   "source": [
    "post_order(r)"
   ]
  },
  {
   "cell_type": "code",
   "execution_count": 86,
   "metadata": {},
   "outputs": [
    {
     "name": "stdout",
     "output_type": "stream",
     "text": [
      "received sample\n"
     ]
    }
   ],
   "source": [
    "s = 'sample'\n",
    "print('received', s)"
   ]
  },
  {
   "cell_type": "code",
   "execution_count": null,
   "metadata": {},
   "outputs": [],
   "source": []
  },
  {
   "cell_type": "markdown",
   "metadata": {},
   "source": [
    "## Binary (min) Heap Implementation\n",
    "\n",
    "- BinaryHeap() creates a new empty binary heap\n",
    "- insert(k) adds a new item to the heap\n",
    "- find_min only returns the item with the minimum key value (THE ROOT)\n",
    "- del_min returns the item with the minimum key value (THE ROOT) and deletes it (WHICH IS TRICKY LOL)\n",
    "- is_empty() returns boolean depending on if the heap is empty or not\n",
    "- size() returns the size of the heap\n",
    "- buildHeap(list) builds a new heap from a list of keys"
   ]
  },
  {
   "cell_type": "code",
   "execution_count": 96,
   "metadata": {},
   "outputs": [],
   "source": [
    "class Bin_Heap():\n",
    "    def __init__(self):\n",
    "        self.heap_list = [0]\n",
    "        self.current_size = 0\n",
    "        \n",
    "    # Method for insertion\n",
    "    def insert(self, ele):\n",
    "        self.heap_list.append(ele)\n",
    "        self.current_size += 1\n",
    "        self.perc_up(self.current_size)\n",
    "    \n",
    "    # Takes care of swapping until the min heap is in proper order\n",
    "    def perc_up(self, i):\n",
    "        print('reached here')\n",
    "        while i//2 == 0:\n",
    "            if self.heap_list[i] < self.heap_list[i//2]:\n",
    "                tmp = self.heap_list[i//2]\n",
    "                self.heap_list[i//2] = self.heap_list[i]\n",
    "                self.heap_list[i] = temp\n",
    "            i = i // 2\n",
    "    "
   ]
  },
  {
   "cell_type": "code",
   "execution_count": null,
   "metadata": {},
   "outputs": [],
   "source": []
  }
 ],
 "metadata": {
  "kernelspec": {
   "display_name": "Python 3",
   "language": "python",
   "name": "python3"
  },
  "language_info": {
   "codemirror_mode": {
    "name": "ipython",
    "version": 3
   },
   "file_extension": ".py",
   "mimetype": "text/x-python",
   "name": "python",
   "nbconvert_exporter": "python",
   "pygments_lexer": "ipython3",
   "version": "3.7.4"
  }
 },
 "nbformat": 4,
 "nbformat_minor": 2
}
