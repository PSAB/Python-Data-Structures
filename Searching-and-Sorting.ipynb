{
 "cells": [
  {
   "cell_type": "markdown",
   "metadata": {},
   "source": [
    "## Implement Sequential search for element in UN-ORDERED list:"
   ]
  },
  {
   "cell_type": "code",
   "execution_count": 1,
   "metadata": {},
   "outputs": [],
   "source": [
    "def seq_search_2(arr, ele):\n",
    "    i = 0\n",
    "    found = False\n",
    "    while not found and i < len(arr):\n",
    "        if arr[i] == ele:\n",
    "            found = True\n",
    "        i += 1\n",
    "    return found"
   ]
  },
  {
   "cell_type": "code",
   "execution_count": 2,
   "metadata": {},
   "outputs": [],
   "source": [
    "def ordered_seq_search_2(arr, ele):\n",
    "    if ele < arr[0]:\n",
    "        return False\n",
    "    \n",
    "    i = 0\n",
    "    found = False\n",
    "    while i < len(arr) and arr[i] <= ele and not found:\n",
    "        if arr[i] == ele:\n",
    "            found = True\n",
    "        i += 1\n",
    "    return found"
   ]
  },
  {
   "cell_type": "code",
   "execution_count": 16,
   "metadata": {},
   "outputs": [],
   "source": [
    "def binary_search_3(arr, ele):\n",
    "    found = False\n",
    "    while not found and len(arr) > 0:\n",
    "        mid = len(arr) // 2\n",
    "        if arr[mid] == ele:\n",
    "            found = True\n",
    "        elif arr[mid] < ele:\n",
    "            arr = arr[(mid+1):]\n",
    "        else:\n",
    "            arr = arr[:mid]\n",
    "    return found\n",
    "        "
   ]
  },
  {
   "cell_type": "code",
   "execution_count": null,
   "metadata": {},
   "outputs": [],
   "source": [
    "def rec_bin_search_3(arr, ele):\n",
    "    "
   ]
  },
  {
   "cell_type": "code",
   "execution_count": null,
   "metadata": {},
   "outputs": [],
   "source": []
  },
  {
   "cell_type": "code",
   "execution_count": null,
   "metadata": {},
   "outputs": [],
   "source": []
  },
  {
   "cell_type": "code",
   "execution_count": null,
   "metadata": {},
   "outputs": [],
   "source": []
  },
  {
   "cell_type": "code",
   "execution_count": 26,
   "metadata": {},
   "outputs": [],
   "source": [
    "def seq_search(arr, ele):\n",
    "    i = 0\n",
    "    found = False\n",
    "    while i < len(arr) and found == False:\n",
    "        if arr[i] == ele:\n",
    "            found = True\n",
    "        i += 1\n",
    "    return found"
   ]
  },
  {
   "cell_type": "code",
   "execution_count": 78,
   "metadata": {},
   "outputs": [],
   "source": [
    "def ordered_seq_search(arr, ele):\n",
    "    \"\"\"\n",
    "    INPUT ARRAY MUST BE ORDERED\n",
    "    \"\"\"\n",
    "    i = 0\n",
    "    found = False\n",
    "    while i < len(arr) and found == False:\n",
    "        if ele == arr[i]:\n",
    "            found = True\n",
    "            i -= 1\n",
    "        elif ele < arr[i]:\n",
    "            found = False\n",
    "            break\n",
    "        i += 1\n",
    "    return (found, i)"
   ]
  },
  {
   "cell_type": "code",
   "execution_count": 82,
   "metadata": {},
   "outputs": [
    {
     "data": {
      "text/plain": [
       "(True, 7)"
      ]
     },
     "execution_count": 82,
     "metadata": {},
     "output_type": "execute_result"
    }
   ],
   "source": [
    "arr = [1,2,3,4,5,6,7,8,9,10,12,13,14,15,16,17]\n",
    "ordered_seq_search(arr, 8)"
   ]
  },
  {
   "cell_type": "code",
   "execution_count": 4,
   "metadata": {},
   "outputs": [],
   "source": [
    "def seq_search_2(arr, ele):\n",
    "    for item in arr:\n",
    "        if item == ele:\n",
    "            return True\n",
    "    return False"
   ]
  },
  {
   "cell_type": "code",
   "execution_count": 27,
   "metadata": {},
   "outputs": [
    {
     "data": {
      "text/plain": [
       "False"
      ]
     },
     "execution_count": 27,
     "metadata": {},
     "output_type": "execute_result"
    }
   ],
   "source": [
    "arr = [1,2,3,4,5]\n",
    "seq_search(arr, 6)"
   ]
  },
  {
   "cell_type": "code",
   "execution_count": 28,
   "metadata": {},
   "outputs": [
    {
     "data": {
      "text/plain": [
       "True"
      ]
     },
     "execution_count": 28,
     "metadata": {},
     "output_type": "execute_result"
    }
   ],
   "source": [
    "seq_search(arr, 5)"
   ]
  },
  {
   "cell_type": "code",
   "execution_count": 5,
   "metadata": {},
   "outputs": [
    {
     "data": {
      "text/plain": [
       "True"
      ]
     },
     "execution_count": 5,
     "metadata": {},
     "output_type": "execute_result"
    }
   ],
   "source": [
    "seq_search_2(arr, 5)"
   ]
  },
  {
   "cell_type": "code",
   "execution_count": 6,
   "metadata": {},
   "outputs": [
    {
     "data": {
      "text/plain": [
       "False"
      ]
     },
     "execution_count": 6,
     "metadata": {},
     "output_type": "execute_result"
    }
   ],
   "source": [
    "seq_search_2(arr, 15)"
   ]
  },
  {
   "cell_type": "code",
   "execution_count": 9,
   "metadata": {},
   "outputs": [
    {
     "name": "stdout",
     "output_type": "stream",
     "text": [
      "(12, 13)\n"
     ]
    }
   ],
   "source": [
    "print(str((12, 13)))"
   ]
  },
  {
   "cell_type": "code",
   "execution_count": 11,
   "metadata": {},
   "outputs": [
    {
     "data": {
      "text/plain": [
       "'12'"
      ]
     },
     "execution_count": 11,
     "metadata": {},
     "output_type": "execute_result"
    }
   ],
   "source": [
    "'(12, 13)'[1:3]"
   ]
  },
  {
   "cell_type": "code",
   "execution_count": null,
   "metadata": {},
   "outputs": [],
   "source": []
  },
  {
   "cell_type": "markdown",
   "metadata": {},
   "source": [
    "## Binary Search Implementation:"
   ]
  },
  {
   "cell_type": "code",
   "execution_count": 13,
   "metadata": {},
   "outputs": [],
   "source": [
    "def binary_search_2(arr, ele):\n",
    "    \"\"\"\n",
    "    INPUT ARRAY MUST BE ORDERED\n",
    "    \"\"\"\n",
    "    first = 0\n",
    "    last = len(arr) - 1\n",
    "    found = False\n",
    "    \n",
    "    while first <= last and not found:\n",
    "        mid = (first+last)//2\n",
    "        print(first, last, mid)\n",
    "        if arr[mid] == ele:\n",
    "            found = True\n",
    "        else:\n",
    "            if arr[mid] > ele:\n",
    "                last = mid-1\n",
    "            else:\n",
    "                first = mid+1\n",
    "        if first == last and not found:\n",
    "            found = False\n",
    "    return found"
   ]
  },
  {
   "cell_type": "code",
   "execution_count": 16,
   "metadata": {},
   "outputs": [],
   "source": [
    "def my_binary_search(arr, ele):\n",
    "    first = 0\n",
    "    last = len(arr) - 1\n",
    "    found = False\n",
    "    \n",
    "    while not found and first <= last:\n",
    "        mid = (first + last) // 2\n",
    "        if arr[mid] == ele:\n",
    "            found = True\n",
    "        elif arr[mid] < ele:\n",
    "            first = mid+1\n",
    "        else:\n",
    "            last = mid-1\n",
    "        \n",
    "        if not found and first == last:\n",
    "            found = False\n",
    "    return found"
   ]
  },
  {
   "cell_type": "code",
   "execution_count": 19,
   "metadata": {},
   "outputs": [
    {
     "data": {
      "text/plain": [
       "False"
      ]
     },
     "execution_count": 19,
     "metadata": {},
     "output_type": "execute_result"
    }
   ],
   "source": [
    "my_binary_search([1,2,3,4,5,7,8,9,10,11,12,13], 6)"
   ]
  },
  {
   "cell_type": "code",
   "execution_count": 15,
   "metadata": {},
   "outputs": [
    {
     "name": "stdout",
     "output_type": "stream",
     "text": [
      "0 11 5\n",
      "0 4 2\n",
      "0 1 0\n",
      "1 1 1\n"
     ]
    },
    {
     "data": {
      "text/plain": [
       "True"
      ]
     },
     "execution_count": 15,
     "metadata": {},
     "output_type": "execute_result"
    }
   ],
   "source": [
    "binary_search_2([1,2,3,4,5,7,8,9,10,11,12,13], 2)"
   ]
  },
  {
   "cell_type": "markdown",
   "metadata": {},
   "source": [
    "## Recursive Binary Search Implementation:"
   ]
  },
  {
   "cell_type": "code",
   "execution_count": 11,
   "metadata": {},
   "outputs": [],
   "source": [
    "def recursive_bin_search(arr, ele):\n",
    "#     print(arr)\n",
    "    if len(arr) == 0:\n",
    "        print('False')\n",
    "        return False\n",
    "    else:\n",
    "        mid = len(arr) // 2\n",
    "        if arr[mid] == ele:\n",
    "            print('True')\n",
    "            return True\n",
    "        else:\n",
    "            if arr[mid] < ele:\n",
    "                recursive_bin_search(arr[(mid+1):], ele)\n",
    "            else:\n",
    "                recursive_bin_search(arr[:(mid)], ele)"
   ]
  },
  {
   "cell_type": "code",
   "execution_count": 26,
   "metadata": {},
   "outputs": [],
   "source": [
    "def rec_bin_search(arr, ele):\n",
    "    if len(arr) == 0:\n",
    "        print('False')\n",
    "        return False\n",
    "    else:\n",
    "        mid = len(arr) // 2\n",
    "        if arr[mid] == ele:\n",
    "            print('True')\n",
    "            return True\n",
    "        elif arr[mid] < ele:\n",
    "            rec_bin_search(arr[(mid+1):], ele)\n",
    "        else:\n",
    "            rec_bin_search(arr[:mid], ele)"
   ]
  },
  {
   "cell_type": "code",
   "execution_count": 29,
   "metadata": {},
   "outputs": [
    {
     "name": "stdout",
     "output_type": "stream",
     "text": [
      "False\n"
     ]
    }
   ],
   "source": [
    "rec_bin_search([1,2,3,4,5,7,8,9,10,11,12,13], 0)"
   ]
  },
  {
   "cell_type": "code",
   "execution_count": 12,
   "metadata": {},
   "outputs": [
    {
     "name": "stdout",
     "output_type": "stream",
     "text": [
      "True\n"
     ]
    }
   ],
   "source": [
    "recursive_bin_search([1,2,3,4,5,7,8,9,10,11,12,13], 1)"
   ]
  },
  {
   "cell_type": "markdown",
   "metadata": {},
   "source": [
    "## Hash Table Implementation:"
   ]
  },
  {
   "cell_type": "markdown",
   "metadata": {},
   "source": [
    "### We Can implement a hash table with size m by using a list with each element initialized to None"
   ]
  },
  {
   "cell_type": "markdown",
   "metadata": {},
   "source": [
    "### HASH FUNCTION: The mapping of an item to its appropriate slot in the hash table. Takes in the item and returns an integer in the range of 0 - (m-1)"
   ]
  },
  {
   "cell_type": "markdown",
   "metadata": {},
   "source": [
    "### REMAINDER-STYLE HASH FUNCTION: Returns remainder of (item / table size). This would be the slot number."
   ]
  },
  {
   "cell_type": "markdown",
   "metadata": {},
   "source": [
    "### LOAD FACTOR: (Total # of items stores / Size of table size)"
   ]
  },
  {
   "cell_type": "code",
   "execution_count": null,
   "metadata": {},
   "outputs": [],
   "source": [
    "class HashTable():\n",
    "    def __init__(self, size):\n",
    "        self.size = size\n",
    "        self.slots = [None] * self.size\n",
    "        self.data = [None] * self.size\n",
    "        \n",
    "    def put(self, key, data):\n",
    "        \n",
    "        # Hash value is generated from the user's desired key\n",
    "        hash_value = self.hash_function(key, len(self.slots))\n",
    "        \n",
    "        # If the hash value doesn't exist, we're good\n",
    "        if self.slots[hash_value] == None:\n",
    "            self.slots[hash_value] = key\n",
    "            self.data[hash_value] = data\n",
    "            \n",
    "        else:\n",
    "            \n",
    "            # If the hash value does exist for the provided key, then replace its data if it exists\n",
    "            if self.slots[hash_value] == key:\n",
    "                self.data[hash_value] = data\n",
    "            # If the hash value exists for another previous key, then we need to manage collision thru re-hashing\n",
    "            else:\n",
    "                next_slot = self.re_hash(hash_value, len(self.slots))\n",
    "                while self.slots[next_slot] != None and self.slots[next_slot] != key:\n",
    "                    next_slot = self.re_hash(next_slot, len(self.slots))\n",
    "                \n",
    "                if self.slots[next_slot] == None:\n",
    "                    self.slots[next_slot] = self.key\n",
    "                    self.data[next_slot] = self.data\n",
    "                \n",
    "        \n",
    "    def hash_function(self, key, size):\n",
    "        # The Hash Function\n",
    "        return key%size\n",
    "    \n",
    "    def re_hash(self, old_hash, size):\n",
    "        return (old_hash+1)%size"
   ]
  },
  {
   "cell_type": "code",
   "execution_count": null,
   "metadata": {},
   "outputs": [],
   "source": [
    "class Hash_Table():\n",
    "    \n",
    "    def __init__(self, size):\n",
    "        self.size = size\n",
    "        self.slots = [None] * self.size\n",
    "        self.data = [None] * self.data\n",
    "        \n",
    "    def put(self, key, data):\n",
    "        # First and foremost, create hash value\n",
    "        hash_value = self.hash_function(key, len(self.slots))\n",
    "        \n",
    "        # Check for if spot is empty. If so, add it in. \n",
    "        if self.slots[hash_value] == None:\n",
    "            self.slots[hash_value] = key\n",
    "            self.data[hash_value] = data\n",
    "        else:\n",
    "            # If spot matches the key, then just replace its value\n",
    "            if self.slots[hash_value] == key:\n",
    "                self.data[hash_value] = data\n",
    "            else:\n",
    "                # Otherwise, we gotta do open addressing:\n",
    "                \n",
    "        \n",
    "    def hash_function(self, key, size):\n",
    "        return key%size\n",
    "    \n",
    "    def re_hash(self, old_hash, size):\n",
    "        return (old_hash+1)%size\n",
    "        "
   ]
  },
  {
   "cell_type": "markdown",
   "metadata": {},
   "source": [
    "## MergeSort Implementation:"
   ]
  },
  {
   "cell_type": "code",
   "execution_count": 22,
   "metadata": {},
   "outputs": [],
   "source": [
    "def merge_sort(arr):\n",
    "    if len(arr) > 1:\n",
    "        # Merely split the array:\n",
    "        mid = len(arr) // 2\n",
    "        left_half = arr[:mid]\n",
    "        right_half = arr[mid:]\n",
    "        print(\"left half:\", left_half)\n",
    "        print(\"right half:\", right_half)\n",
    "        \n",
    "        # Recursive calls on left and right halves:\n",
    "        merge_sort(left_half) # These don't get called if len(arr) == 1 because of base case. It stops.\n",
    "        merge_sort(right_half)\n",
    "        \n",
    "        print('final left half is:', left_half)\n",
    "        print('final right half is:', right_half)\n",
    "        \n",
    "        i=0 # for left half index traversing\n",
    "        j=0 # for right half index traversing\n",
    "        k=0 # for arr index assigning\n",
    "\n",
    "        print('arr before while loops:', arr)\n",
    "        # Organize order of merging\n",
    "        while i < len(left_half) and j < len(right_half): # while 0 < len([2]) and 0 < len([1]):\n",
    "            if left_half[i] < right_half[j]: # if 2 < 1:\n",
    "                arr[k] = left_half[i] # arr = [1]\n",
    "                i += 1\n",
    "            else:\n",
    "                arr[k] = right_half[j]\n",
    "                j += 1\n",
    "            k += 1\n",
    "            print('Arr after first while loop:', arr)\n",
    "            \n",
    "        # For the half that is remaining to be ordered:\n",
    "        \n",
    "        while i < len(left_half):\n",
    "            arr[k] = left_half[i]\n",
    "            i += 1\n",
    "            k += 1\n",
    "            print('Arr after second while loop:', arr)\n",
    "            \n",
    "        while j < len(right_half):\n",
    "            arr[k] = right_half[j]\n",
    "            j += 1\n",
    "            k += 1\n",
    "            print('Arr after third while loop:', arr)"
   ]
  },
  {
   "cell_type": "code",
   "execution_count": 23,
   "metadata": {},
   "outputs": [
    {
     "name": "stdout",
     "output_type": "stream",
     "text": [
      "left half: [3]\n",
      "right half: [2, 1]\n",
      "left half: [2]\n",
      "right half: [1]\n",
      "final left half is: [2]\n",
      "final right half is: [1]\n",
      "arr before while loops: [2, 1]\n",
      "Arr after first while loop: [1, 1]\n",
      "Arr after second while loop: [1, 2]\n",
      "final left half is: [3]\n",
      "final right half is: [1, 2]\n",
      "arr before while loops: [3, 2, 1]\n",
      "Arr after first while loop: [1, 2, 1]\n",
      "Arr after first while loop: [1, 2, 1]\n",
      "Arr after second while loop: [1, 2, 3]\n"
     ]
    },
    {
     "data": {
      "text/plain": [
       "[1, 2, 3]"
      ]
     },
     "execution_count": 23,
     "metadata": {},
     "output_type": "execute_result"
    }
   ],
   "source": [
    "arr = [3, 2, 1]\n",
    "merge_sort(arr)\n",
    "arr"
   ]
  },
  {
   "cell_type": "code",
   "execution_count": 25,
   "metadata": {},
   "outputs": [
    {
     "name": "stdout",
     "output_type": "stream",
     "text": [
      "left half: [4, 3]\n",
      "right half: [2, 1]\n",
      "left half: [4]\n",
      "right half: [3]\n",
      "final left half is: [4]\n",
      "final right half is: [3]\n",
      "arr before while loops: [4, 3]\n",
      "Arr after first while loop: [3, 3]\n",
      "Arr after second while loop: [3, 4]\n",
      "left half: [2]\n",
      "right half: [1]\n",
      "final left half is: [2]\n",
      "final right half is: [1]\n",
      "arr before while loops: [2, 1]\n",
      "Arr after first while loop: [1, 1]\n",
      "Arr after second while loop: [1, 2]\n",
      "final left half is: [3, 4]\n",
      "final right half is: [1, 2]\n",
      "arr before while loops: [4, 3, 2, 1]\n",
      "Arr after first while loop: [1, 3, 2, 1]\n",
      "Arr after first while loop: [1, 2, 2, 1]\n",
      "Arr after second while loop: [1, 2, 3, 1]\n",
      "Arr after second while loop: [1, 2, 3, 4]\n"
     ]
    },
    {
     "data": {
      "text/plain": [
       "[1, 2, 3, 4]"
      ]
     },
     "execution_count": 25,
     "metadata": {},
     "output_type": "execute_result"
    }
   ],
   "source": [
    "arr = [4, 3, 2, 1]\n",
    "merge_sort(arr)\n",
    "arr"
   ]
  },
  {
   "cell_type": "code",
   "execution_count": 24,
   "metadata": {},
   "outputs": [
    {
     "name": "stdout",
     "output_type": "stream",
     "text": [
      "left half: [5, 4, 7, 3, 6]\n",
      "right half: [8, 2, 1, 9, 0]\n",
      "left half: [5, 4]\n",
      "right half: [7, 3, 6]\n",
      "left half: [5]\n",
      "right half: [4]\n",
      "final left half is: [5]\n",
      "final right half is: [4]\n",
      "arr before while loops: [5, 4]\n",
      "Arr after first while loop: [4, 4]\n",
      "Arr after second while loop: [4, 5]\n",
      "left half: [7]\n",
      "right half: [3, 6]\n",
      "left half: [3]\n",
      "right half: [6]\n",
      "final left half is: [3]\n",
      "final right half is: [6]\n",
      "arr before while loops: [3, 6]\n",
      "Arr after first while loop: [3, 6]\n",
      "Arr after third while loop: [3, 6]\n",
      "final left half is: [7]\n",
      "final right half is: [3, 6]\n",
      "arr before while loops: [7, 3, 6]\n",
      "Arr after first while loop: [3, 3, 6]\n",
      "Arr after first while loop: [3, 6, 6]\n",
      "Arr after second while loop: [3, 6, 7]\n",
      "final left half is: [4, 5]\n",
      "final right half is: [3, 6, 7]\n",
      "arr before while loops: [5, 4, 7, 3, 6]\n",
      "Arr after first while loop: [3, 4, 7, 3, 6]\n",
      "Arr after first while loop: [3, 4, 7, 3, 6]\n",
      "Arr after first while loop: [3, 4, 5, 3, 6]\n",
      "Arr after third while loop: [3, 4, 5, 6, 6]\n",
      "Arr after third while loop: [3, 4, 5, 6, 7]\n",
      "left half: [8, 2]\n",
      "right half: [1, 9, 0]\n",
      "left half: [8]\n",
      "right half: [2]\n",
      "final left half is: [8]\n",
      "final right half is: [2]\n",
      "arr before while loops: [8, 2]\n",
      "Arr after first while loop: [2, 2]\n",
      "Arr after second while loop: [2, 8]\n",
      "left half: [1]\n",
      "right half: [9, 0]\n",
      "left half: [9]\n",
      "right half: [0]\n",
      "final left half is: [9]\n",
      "final right half is: [0]\n",
      "arr before while loops: [9, 0]\n",
      "Arr after first while loop: [0, 0]\n",
      "Arr after second while loop: [0, 9]\n",
      "final left half is: [1]\n",
      "final right half is: [0, 9]\n",
      "arr before while loops: [1, 9, 0]\n",
      "Arr after first while loop: [0, 9, 0]\n",
      "Arr after first while loop: [0, 1, 0]\n",
      "Arr after third while loop: [0, 1, 9]\n",
      "final left half is: [2, 8]\n",
      "final right half is: [0, 1, 9]\n",
      "arr before while loops: [8, 2, 1, 9, 0]\n",
      "Arr after first while loop: [0, 2, 1, 9, 0]\n",
      "Arr after first while loop: [0, 1, 1, 9, 0]\n",
      "Arr after first while loop: [0, 1, 2, 9, 0]\n",
      "Arr after first while loop: [0, 1, 2, 8, 0]\n",
      "Arr after third while loop: [0, 1, 2, 8, 9]\n",
      "final left half is: [3, 4, 5, 6, 7]\n",
      "final right half is: [0, 1, 2, 8, 9]\n",
      "arr before while loops: [5, 4, 7, 3, 6, 8, 2, 1, 9, 0]\n",
      "Arr after first while loop: [0, 4, 7, 3, 6, 8, 2, 1, 9, 0]\n",
      "Arr after first while loop: [0, 1, 7, 3, 6, 8, 2, 1, 9, 0]\n",
      "Arr after first while loop: [0, 1, 2, 3, 6, 8, 2, 1, 9, 0]\n",
      "Arr after first while loop: [0, 1, 2, 3, 6, 8, 2, 1, 9, 0]\n",
      "Arr after first while loop: [0, 1, 2, 3, 4, 8, 2, 1, 9, 0]\n",
      "Arr after first while loop: [0, 1, 2, 3, 4, 5, 2, 1, 9, 0]\n",
      "Arr after first while loop: [0, 1, 2, 3, 4, 5, 6, 1, 9, 0]\n",
      "Arr after first while loop: [0, 1, 2, 3, 4, 5, 6, 7, 9, 0]\n",
      "Arr after third while loop: [0, 1, 2, 3, 4, 5, 6, 7, 8, 0]\n",
      "Arr after third while loop: [0, 1, 2, 3, 4, 5, 6, 7, 8, 9]\n"
     ]
    },
    {
     "data": {
      "text/plain": [
       "[0, 1, 2, 3, 4, 5, 6, 7, 8, 9]"
      ]
     },
     "execution_count": 24,
     "metadata": {},
     "output_type": "execute_result"
    }
   ],
   "source": [
    "arr = [5, 4, 7, 3, 6, 8, 2, 1, 9, 0]\n",
    "merge_sort(arr)\n",
    "arr"
   ]
  },
  {
   "cell_type": "code",
   "execution_count": null,
   "metadata": {},
   "outputs": [],
   "source": []
  }
 ],
 "metadata": {
  "kernelspec": {
   "display_name": "Python 3",
   "language": "python",
   "name": "python3"
  },
  "language_info": {
   "codemirror_mode": {
    "name": "ipython",
    "version": 3
   },
   "file_extension": ".py",
   "mimetype": "text/x-python",
   "name": "python",
   "nbconvert_exporter": "python",
   "pygments_lexer": "ipython3",
   "version": "3.7.4"
  }
 },
 "nbformat": 4,
 "nbformat_minor": 2
}
