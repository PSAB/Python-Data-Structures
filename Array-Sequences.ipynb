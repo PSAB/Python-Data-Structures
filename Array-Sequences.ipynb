{
 "cells": [
  {
   "cell_type": "code",
   "execution_count": 1,
   "metadata": {},
   "outputs": [],
   "source": [
    "import sys"
   ]
  },
  {
   "cell_type": "code",
   "execution_count": 4,
   "metadata": {},
   "outputs": [
    {
     "name": "stdout",
     "output_type": "stream",
     "text": [
      "Length is:   0 with size:   72\n",
      "Length is:   1 with size:  104\n",
      "Length is:   2 with size:  104\n",
      "Length is:   3 with size:  104\n",
      "Length is:   4 with size:  104\n",
      "Length is:   5 with size:  136\n",
      "Length is:   6 with size:  136\n",
      "Length is:   7 with size:  136\n",
      "Length is:   8 with size:  136\n",
      "Length is:   9 with size:  200\n",
      "Length is:  10 with size:  200\n",
      "Length is:  11 with size:  200\n",
      "Length is:  12 with size:  200\n",
      "Length is:  13 with size:  200\n",
      "Length is:  14 with size:  200\n",
      "Length is:  15 with size:  200\n",
      "Length is:  16 with size:  200\n",
      "Length is:  17 with size:  272\n",
      "Length is:  18 with size:  272\n",
      "Length is:  19 with size:  272\n",
      "Length is:  20 with size:  272\n",
      "Length is:  21 with size:  272\n",
      "Length is:  22 with size:  272\n",
      "Length is:  23 with size:  272\n",
      "Length is:  24 with size:  272\n",
      "Length is:  25 with size:  272\n",
      "Length is:  26 with size:  352\n",
      "Length is:  27 with size:  352\n",
      "Length is:  28 with size:  352\n",
      "Length is:  29 with size:  352\n",
      "Length is:  30 with size:  352\n",
      "Length is:  31 with size:  352\n",
      "Length is:  32 with size:  352\n",
      "Length is:  33 with size:  352\n",
      "Length is:  34 with size:  352\n",
      "Length is:  35 with size:  352\n",
      "Length is:  36 with size:  440\n",
      "Length is:  37 with size:  440\n",
      "Length is:  38 with size:  440\n",
      "Length is:  39 with size:  440\n",
      "Length is:  40 with size:  440\n",
      "Length is:  41 with size:  440\n",
      "Length is:  42 with size:  440\n",
      "Length is:  43 with size:  440\n",
      "Length is:  44 with size:  440\n",
      "Length is:  45 with size:  440\n",
      "Length is:  46 with size:  440\n",
      "Length is:  47 with size:  536\n",
      "Length is:  48 with size:  536\n",
      "Length is:  49 with size:  536\n"
     ]
    }
   ],
   "source": [
    "n = 50\n",
    "data = []\n",
    "\n",
    "for i in range(n):\n",
    "    a = len(data)\n",
    "    b = sys.getsizeof(data)\n",
    "    print('Length is: {0:3d} with size: {1:4d}'.format(a, b))\n",
    "    data.append(n)\n",
    "    "
   ]
  },
  {
   "cell_type": "code",
   "execution_count": 7,
   "metadata": {},
   "outputs": [
    {
     "data": {
      "text/plain": [
       "28"
      ]
     },
     "execution_count": 7,
     "metadata": {},
     "output_type": "execute_result"
    }
   ],
   "source": [
    "sys.getsizeof(2)"
   ]
  },
  {
   "cell_type": "markdown",
   "metadata": {},
   "source": [
    "# DYNAMIC ARRAY IMPLEMENTATION"
   ]
  },
  {
   "cell_type": "code",
   "execution_count": 8,
   "metadata": {},
   "outputs": [],
   "source": [
    "import ctypes"
   ]
  },
  {
   "cell_type": "code",
   "execution_count": 16,
   "metadata": {},
   "outputs": [],
   "source": [
    "class DynamicArray():\n",
    "    \n",
    "    def __init__(self):\n",
    "        self.n = 0\n",
    "        self.capacity = 1\n",
    "        self.A = self.make_array(self.capacity)\n",
    "        \n",
    "    def __len__(self):\n",
    "        return self.n\n",
    "    \n",
    "    def __getitem__(self, k):\n",
    "        if not 0 <= k < self.n:\n",
    "            return IndexError('Out of bounds')\n",
    "        return self.A[k]\n",
    "    \n",
    "    def append(self, ele):\n",
    "        if self.n == self.capacity:\n",
    "            self._resize(self.capacity*2)\n",
    "        self.A[self.n] = ele\n",
    "        self.n += 1\n",
    "        \n",
    "    def _resize(self, new_cap):\n",
    "        B = self.make_array(new_cap)\n",
    "        for i in range(self.n):\n",
    "            B[i] = self.A[i]\n",
    "        self.A = B\n",
    "        self.capacity = new_cap\n",
    "        \n",
    "    def make_array(self, new_cap):\n",
    "        return (new_cap * ctypes.py_object)()\n",
    "        \n",
    "    "
   ]
  },
  {
   "cell_type": "code",
   "execution_count": 17,
   "metadata": {},
   "outputs": [],
   "source": [
    "arr = DynamicArray()"
   ]
  },
  {
   "cell_type": "code",
   "execution_count": 18,
   "metadata": {},
   "outputs": [],
   "source": [
    "arr.append(1)"
   ]
  },
  {
   "cell_type": "code",
   "execution_count": 19,
   "metadata": {},
   "outputs": [
    {
     "data": {
      "text/plain": [
       "1"
      ]
     },
     "execution_count": 19,
     "metadata": {},
     "output_type": "execute_result"
    }
   ],
   "source": [
    "len(arr)"
   ]
  },
  {
   "cell_type": "code",
   "execution_count": 20,
   "metadata": {},
   "outputs": [],
   "source": [
    "arr.append(2)"
   ]
  },
  {
   "cell_type": "code",
   "execution_count": 21,
   "metadata": {},
   "outputs": [
    {
     "data": {
      "text/plain": [
       "2"
      ]
     },
     "execution_count": 21,
     "metadata": {},
     "output_type": "execute_result"
    }
   ],
   "source": [
    "len(arr)"
   ]
  },
  {
   "cell_type": "code",
   "execution_count": 22,
   "metadata": {},
   "outputs": [
    {
     "data": {
      "text/plain": [
       "2"
      ]
     },
     "execution_count": 22,
     "metadata": {},
     "output_type": "execute_result"
    }
   ],
   "source": [
    "arr[1]"
   ]
  },
  {
   "cell_type": "markdown",
   "metadata": {},
   "source": [
    "## PRACTICE PROBLEMS:"
   ]
  },
  {
   "cell_type": "markdown",
   "metadata": {},
   "source": [
    "Anagram: Given two strings, check to see if they are anagrams (2 strings can be written using the exact same letters), ignore spaces and capitalization"
   ]
  },
  {
   "cell_type": "code",
   "execution_count": 32,
   "metadata": {},
   "outputs": [],
   "source": [
    "from collections import defaultdict\n",
    "\n",
    "def anagram(phrase1, phrase2):\n",
    "    if len(phrase1) != len(phrase2):\n",
    "        return False\n",
    "    d = defaultdict(int)\n",
    "    for letter in phrase1:\n",
    "        if letter != ' ':\n",
    "            d[letter.lower()] += 1\n",
    "    for letter in phrase2:\n",
    "        if letter != ' ':\n",
    "            if d[letter.lower()] == 0:\n",
    "                return False\n",
    "            d[letter.lower()] -= 1\n",
    "    return sum(d.values()) == 0"
   ]
  },
  {
   "cell_type": "code",
   "execution_count": 35,
   "metadata": {},
   "outputs": [
    {
     "data": {
      "text/plain": [
       "True"
      ]
     },
     "execution_count": 35,
     "metadata": {},
     "output_type": "execute_result"
    }
   ],
   "source": [
    "anagram('phrase', 'esa rph')"
   ]
  },
  {
   "cell_type": "code",
   "execution_count": 34,
   "metadata": {},
   "outputs": [
    {
     "data": {
      "text/plain": [
       "False"
      ]
     },
     "execution_count": 34,
     "metadata": {},
     "output_type": "execute_result"
    }
   ],
   "source": [
    "anagram('phrase', 'esasrph')"
   ]
  },
  {
   "cell_type": "code",
   "execution_count": null,
   "metadata": {},
   "outputs": [],
   "source": []
  },
  {
   "cell_type": "markdown",
   "metadata": {},
   "source": [
    "Given an integer array, output all the unique pairs that sum up to a specific value k:"
   ]
  },
  {
   "cell_type": "code",
   "execution_count": 36,
   "metadata": {},
   "outputs": [],
   "source": [
    "def pair_sum(arr, k):\n",
    "    seen = set()\n",
    "    output = set()\n",
    "    for num in arr:\n",
    "        if (k-num) not in seen:\n",
    "            seen.add(num)\n",
    "        else:\n",
    "            output.add((min(k-num, num), max(k-num, num)))\n",
    "    return len(output)"
   ]
  },
  {
   "cell_type": "code",
   "execution_count": 37,
   "metadata": {},
   "outputs": [
    {
     "data": {
      "text/plain": [
       "2"
      ]
     },
     "execution_count": 37,
     "metadata": {},
     "output_type": "execute_result"
    }
   ],
   "source": [
    "pair_sum([1,3,2,2], 4)"
   ]
  },
  {
   "cell_type": "code",
   "execution_count": null,
   "metadata": {},
   "outputs": [],
   "source": []
  },
  {
   "cell_type": "markdown",
   "metadata": {},
   "source": [
    "Given one array, a second array is formed by shuffling the elements of the first array and deleting a random element. Find that missing element given the two arrays. \n"
   ]
  },
  {
   "cell_type": "code",
   "execution_count": 38,
   "metadata": {},
   "outputs": [],
   "source": [
    "def finder(arr1, arr2):\n",
    "    d = defaultdict(int)\n",
    "    for num in arr1:\n",
    "        d[num] += 1\n",
    "    for num in arr2:\n",
    "        d[num] -= 1\n",
    "    for key, value in d.items():\n",
    "        if value != 0:\n",
    "            return key\n",
    "    return"
   ]
  },
  {
   "cell_type": "code",
   "execution_count": 39,
   "metadata": {},
   "outputs": [
    {
     "data": {
      "text/plain": [
       "5"
      ]
     },
     "execution_count": 39,
     "metadata": {},
     "output_type": "execute_result"
    }
   ],
   "source": [
    "finder([1,2,3,4,5,6,7], [2,1,3,4,7,6])"
   ]
  },
  {
   "cell_type": "code",
   "execution_count": 40,
   "metadata": {},
   "outputs": [
    {
     "data": {
      "text/plain": [
       "4"
      ]
     },
     "execution_count": 40,
     "metadata": {},
     "output_type": "execute_result"
    }
   ],
   "source": [
    "finder([1,2,3,4,4], [1,2,3,4])"
   ]
  },
  {
   "cell_type": "code",
   "execution_count": 41,
   "metadata": {},
   "outputs": [],
   "source": [
    "def finder2(arr1, arr2):\n",
    "    result = 0\n",
    "    \n",
    "    for num in arr1+arr2:\n",
    "        result ^= num\n",
    "        print(result)\n",
    "        \n",
    "    return result\n",
    "        "
   ]
  },
  {
   "cell_type": "code",
   "execution_count": 42,
   "metadata": {},
   "outputs": [
    {
     "name": "stdout",
     "output_type": "stream",
     "text": [
      "1\n",
      "3\n",
      "0\n",
      "4\n",
      "1\n",
      "7\n",
      "0\n",
      "2\n",
      "3\n",
      "0\n",
      "4\n",
      "3\n",
      "5\n"
     ]
    },
    {
     "data": {
      "text/plain": [
       "5"
      ]
     },
     "execution_count": 42,
     "metadata": {},
     "output_type": "execute_result"
    }
   ],
   "source": [
    "finder2([1,2,3,4,5,6,7], [2,1,3,4,7,6])"
   ]
  },
  {
   "cell_type": "code",
   "execution_count": 43,
   "metadata": {},
   "outputs": [
    {
     "data": {
      "text/plain": [
       "0"
      ]
     },
     "execution_count": 43,
     "metadata": {},
     "output_type": "execute_result"
    }
   ],
   "source": [
    "6^6"
   ]
  },
  {
   "cell_type": "code",
   "execution_count": 44,
   "metadata": {},
   "outputs": [
    {
     "data": {
      "text/plain": [
       "1"
      ]
     },
     "execution_count": 44,
     "metadata": {},
     "output_type": "execute_result"
    }
   ],
   "source": [
    "6^7"
   ]
  },
  {
   "cell_type": "code",
   "execution_count": 45,
   "metadata": {},
   "outputs": [
    {
     "data": {
      "text/plain": [
       "17"
      ]
     },
     "execution_count": 45,
     "metadata": {},
     "output_type": "execute_result"
    }
   ],
   "source": [
    "6^23"
   ]
  },
  {
   "cell_type": "markdown",
   "metadata": {},
   "source": [
    "Given an array of integers (positive or negative) find the largest continuous sum. You should also be able to report back the start and end points of the sum:"
   ]
  },
  {
   "cell_type": "code",
   "execution_count": 48,
   "metadata": {},
   "outputs": [],
   "source": [
    "def large_cont_sum(arr):\n",
    "    max_sum = current_sum = arr[0]\n",
    "    \n",
    "    for num in arr[1:]:\n",
    "        current_sum = max(current_sum+num, num)\n",
    "        max_sum = max(current_sum, max_sum)\n",
    "    return max_sum"
   ]
  },
  {
   "cell_type": "code",
   "execution_count": 49,
   "metadata": {},
   "outputs": [
    {
     "data": {
      "text/plain": [
       "9"
      ]
     },
     "execution_count": 49,
     "metadata": {},
     "output_type": "execute_result"
    }
   ],
   "source": [
    "large_cont_sum([1,2,-1,3,4,-1])"
   ]
  },
  {
   "cell_type": "markdown",
   "metadata": {},
   "source": [
    "Given a string of words, reverse all the words. Remove all leading and trailing whitespace:"
   ]
  },
  {
   "cell_type": "code",
   "execution_count": 77,
   "metadata": {},
   "outputs": [],
   "source": [
    "def master_yoda(phrase):\n",
    "    queue = []\n",
    "    temp = ''\n",
    "    for i in range(len(phrase)):\n",
    "        if phrase[i] != ' ':\n",
    "            temp = temp + phrase[i]\n",
    "        else:\n",
    "            queue.append(temp)\n",
    "            temp = ''\n",
    "    return ' '.join(reversed(queue))\n",
    "    "
   ]
  },
  {
   "cell_type": "code",
   "execution_count": 78,
   "metadata": {},
   "outputs": [
    {
     "data": {
      "text/plain": [
       "'am I'"
      ]
     },
     "execution_count": 78,
     "metadata": {},
     "output_type": "execute_result"
    }
   ],
   "source": [
    "master_yoda('I am pissed')"
   ]
  },
  {
   "cell_type": "code",
   "execution_count": null,
   "metadata": {},
   "outputs": [],
   "source": []
  },
  {
   "cell_type": "code",
   "execution_count": 102,
   "metadata": {},
   "outputs": [],
   "source": [
    "def master_yoda_2(phrase):\n",
    "    words = []\n",
    "    length = len(phrase)\n",
    "    spaces = [' ']\n",
    "    \n",
    "    i = 0 # index tracker for while loop\n",
    "    \n",
    "    while i < length:\n",
    "        if phrase[i] not in spaces:\n",
    "            word_start = i\n",
    "            while i < length and phrase[i] not in spaces:\n",
    "                \n",
    "                i += 1\n",
    "            words.append(phrase[word_start:i])\n",
    "        i += 1\n",
    "        \n",
    "    return ' '.join(reversed(words))"
   ]
  },
  {
   "cell_type": "code",
   "execution_count": 103,
   "metadata": {},
   "outputs": [
    {
     "data": {
      "text/plain": [
       "'pissed am I'"
      ]
     },
     "execution_count": 103,
     "metadata": {},
     "output_type": "execute_result"
    }
   ],
   "source": [
    "master_yoda_2('I am pissed')"
   ]
  },
  {
   "cell_type": "code",
   "execution_count": 122,
   "metadata": {},
   "outputs": [
    {
     "name": "stdout",
     "output_type": "stream",
     "text": [
      "letter : D letter2: p\n",
      "letter : D letter2: e\n",
      "letter : D letter2: r\n",
      "letter : u letter2: p\n",
      "letter : u letter2: e\n",
      "letter : u letter2: r\n",
      "letter : d letter2: p\n",
      "letter : d letter2: e\n",
      "letter : d letter2: r\n",
      "letter : e letter2: p\n",
      "letter : e letter2: e\n",
      "letter : e letter2: r\n",
      "out of loop\n"
     ]
    }
   ],
   "source": [
    "for letter in 'Dude':\n",
    "    for letter2 in 'perfect':\n",
    "        if letter2 == 'f':\n",
    "            break\n",
    "        print('letter : {} letter2: {}'.format(letter, letter2))\n",
    "print('out of loop')"
   ]
  },
  {
   "cell_type": "code",
   "execution_count": null,
   "metadata": {},
   "outputs": [],
   "source": []
  },
  {
   "cell_type": "markdown",
   "metadata": {},
   "source": [
    "String compression:"
   ]
  },
  {
   "cell_type": "code",
   "execution_count": 109,
   "metadata": {},
   "outputs": [],
   "source": [
    "def compress(string):\n",
    "    final_list = []\n",
    "    order_list = []\n",
    "    d = defaultdict(int)\n",
    "    for letter in string:\n",
    "        d[letter] += 1\n",
    "        if letter not in order_list:\n",
    "            order_list.append(letter)\n",
    "    for letter in order_list:\n",
    "        final_list.append(letter)\n",
    "        final_list.append(str(d[letter]))\n",
    "    return ''.join(final_list)\n",
    "    "
   ]
  },
  {
   "cell_type": "code",
   "execution_count": 119,
   "metadata": {},
   "outputs": [
    {
     "data": {
      "text/plain": [
       "'A4B2C1'"
      ]
     },
     "execution_count": 119,
     "metadata": {},
     "output_type": "execute_result"
    }
   ],
   "source": [
    "compress('AAAABBC')"
   ]
  },
  {
   "cell_type": "code",
   "execution_count": 111,
   "metadata": {},
   "outputs": [
    {
     "data": {
      "text/plain": [
       "'A2B1'"
      ]
     },
     "execution_count": 111,
     "metadata": {},
     "output_type": "execute_result"
    }
   ],
   "source": [
    "compress('AAB')"
   ]
  },
  {
   "cell_type": "code",
   "execution_count": 112,
   "metadata": {},
   "outputs": [
    {
     "data": {
      "text/plain": [
       "'A3a3'"
      ]
     },
     "execution_count": 112,
     "metadata": {},
     "output_type": "execute_result"
    }
   ],
   "source": [
    "compress('AAAaaa')"
   ]
  },
  {
   "cell_type": "code",
   "execution_count": 117,
   "metadata": {},
   "outputs": [],
   "source": [
    "# Run-length compression algorithm\n",
    "def compress2(string):\n",
    "    r = ''\n",
    "    length = len(string)\n",
    "    \n",
    "    last = string[0]\n",
    "    count = 1\n",
    "    i = 1\n",
    "    \n",
    "    while i < length:\n",
    "        if string[i] == string[i-1]:\n",
    "            count += 1\n",
    "        else:\n",
    "            r = r + last + str(count)\n",
    "            last = string[i]\n",
    "            count = 1\n",
    "        i += 1\n",
    "    r = r + last + str(count)\n",
    "    return r"
   ]
  },
  {
   "cell_type": "code",
   "execution_count": 118,
   "metadata": {},
   "outputs": [
    {
     "data": {
      "text/plain": [
       "'A3a3'"
      ]
     },
     "execution_count": 118,
     "metadata": {},
     "output_type": "execute_result"
    }
   ],
   "source": [
    "compress2('AAAaaa')"
   ]
  },
  {
   "cell_type": "code",
   "execution_count": 120,
   "metadata": {},
   "outputs": [
    {
     "data": {
      "text/plain": [
       "'A4B2C1'"
      ]
     },
     "execution_count": 120,
     "metadata": {},
     "output_type": "execute_result"
    }
   ],
   "source": [
    "compress2('AAAABBC')"
   ]
  },
  {
   "cell_type": "code",
   "execution_count": null,
   "metadata": {},
   "outputs": [],
   "source": []
  }
 ],
 "metadata": {
  "kernelspec": {
   "display_name": "Python 3",
   "language": "python",
   "name": "python3"
  },
  "language_info": {
   "codemirror_mode": {
    "name": "ipython",
    "version": 3
   },
   "file_extension": ".py",
   "mimetype": "text/x-python",
   "name": "python",
   "nbconvert_exporter": "python",
   "pygments_lexer": "ipython3",
   "version": "3.7.4"
  }
 },
 "nbformat": 4,
 "nbformat_minor": 2
}
